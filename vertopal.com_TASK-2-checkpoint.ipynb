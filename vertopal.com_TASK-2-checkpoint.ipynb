{
 "cells": [
  {
   "cell_type": "markdown",
   "metadata": {},
   "source": [
    "# K-Means Clsutering on Iris Dataset"
   ],
   "id": "dbd84308"
  },
  {
   "cell_type": "markdown",
   "metadata": {},
   "source": [
    "                                                                                                      ##created\n",
    "                                                                                        -- ##by Mayur R. Machhi\n",
    "                                                                                        -- ##for The Sparks Foundation"
   ],
   "id": "87316722"
  },
  {
   "cell_type": "code",
   "execution_count": null,
   "metadata": {},
   "outputs": [],
   "source": [],
   "id": "b9540a44"
  }
 ],
 "nbformat": 4,
 "nbformat_minor": 5,
 "metadata": {
  "kernelspec": {
   "name": "python3",
   "display_name": "Python 3 (ipykernel)",
   "language": "python"
  },
  "language_info": {
   "name": "python",
   "codemirror_mode": {
    "name": "ipython",
    "version": "3"
   },
   "file_extension": ".py",
   "mimetype": "text/x-python",
   "nbconvert_exporter": "python",
   "pygments_lexer": "ipython3",
   "version": "3.9.13"
  }
 }
}
